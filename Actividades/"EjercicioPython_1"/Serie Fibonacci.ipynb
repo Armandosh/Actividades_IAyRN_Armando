{
  "nbformat": 4,
  "nbformat_minor": 0,
  "metadata": {
    "colab": {
      "provenance": []
    },
    "kernelspec": {
      "name": "python3",
      "display_name": "Python 3"
    },
    "language_info": {
      "name": "python"
    }
  },
  "cells": [
    {
      "cell_type": "code",
      "source": [
        "#Desarrolla un algoritmo que le pregunte al usuario cuántos números de la serie de Fibonnaci quiere generar y que al final los imprima. \n",
        "#Nombre: Jorge Armando Segura Hernandez, Matricula: 1968532, Hora: N1\n",
        "def fibonacci(n):\n",
        "  a=0\n",
        "  b=1\n",
        "  if n == 1:\n",
        "    print(a)\n",
        "  elif n<= 0:\n",
        "    print (\"error\")\n",
        "  else:\n",
        "    print (a)\n",
        "    \n",
        "    for i in range (2,n):\n",
        "      c = a + b\n",
        "      a = b\n",
        "      b = c\n",
        "      print(c)\n",
        "num = int(input(\"Introduzca el numero que desea obtener de la serie fibonacci: \"))\n",
        "fibonacci(num)\n"
      ],
      "metadata": {
        "colab": {
          "base_uri": "https://localhost:8080/"
        },
        "id": "gerns0pYJVX3",
        "outputId": "0e0b285f-eb56-4990-8ebb-9c9090177db6"
      },
      "execution_count": 7,
      "outputs": [
        {
          "output_type": "stream",
          "name": "stdout",
          "text": [
            "Introduzca el numero que desea obtener de la serie fibonacci: 10\n",
            "0\n",
            "1\n",
            "2\n",
            "3\n",
            "5\n",
            "8\n",
            "13\n",
            "21\n",
            "34\n"
          ]
        }
      ]
    },
    {
      "cell_type": "markdown",
      "source": [
        "Aqui se muestra el resultado de lo que pedimos, que en este caso fueron 10 numeros."
      ],
      "metadata": {
        "id": "ss8yT5rntV_-"
      }
    }
  ]
}
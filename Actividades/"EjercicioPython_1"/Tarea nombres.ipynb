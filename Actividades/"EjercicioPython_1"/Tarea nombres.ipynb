{
  "nbformat": 4,
  "nbformat_minor": 0,
  "metadata": {
    "colab": {
      "provenance": []
    },
    "kernelspec": {
      "name": "python3",
      "display_name": "Python 3"
    },
    "language_info": {
      "name": "python"
    }
  },
  "cells": [
    {
      "cell_type": "code",
      "execution_count": 17,
      "metadata": {
        "colab": {
          "base_uri": "https://localhost:8080/"
        },
        "id": "HCdEIxNifc6T",
        "outputId": "0a62ffe7-06cf-4a37-a827-387b20052947"
      },
      "outputs": [
        {
          "output_type": "stream",
          "name": "stdout",
          "text": [
            "Introduzca su nombre: Ana\n",
            "Hola como estas!\n",
            "Fin del programa\n"
          ]
        }
      ],
      "source": [
        "#Desarrolla un algoritmo que le pida al usuario por su nombre y que lo salude con su nombre, excepto si se llama “Ana”, “Juan”, y “Pedro”.\n",
        "#Nombre: Jorge Armando Segura Hernandez, Matricula: 1968532, Hora: N1\n",
        "x = \"Ana\"\n",
        "y = \"Pedro\"\n",
        "z = \"Juan\"\n",
        "\n",
        "name = input(\"Introduzca su nombre: \")\n",
        "\n",
        "if name!=(x or y or z):\n",
        "    print(\"Hola como estas\", name + \"!\")\n",
        "\n",
        "if name==(x or y or z):\n",
        "    print(\"Hola como estas!\")\n",
        "print(\"Fin del programa\")"
      ]
    },
    {
      "cell_type": "markdown",
      "source": [
        "Este es el resultado cuando se le coloca un nombre de los declarados como variables."
      ],
      "metadata": {
        "id": "LQZzextdsZGZ"
      }
    },
    {
      "cell_type": "code",
      "source": [
        "x = \"Ana\"\n",
        "y = \"Pedro\"\n",
        "z = \"Juan\"\n",
        "\n",
        "name = input(\"Introduzca su nombre: \")\n",
        "\n",
        "if name!=(x or y or z):\n",
        "    print(\"Hola como estas\", name + \"!\")\n",
        "\n",
        "if name==(x or y or z):\n",
        "    print(\"Hola como estas!\")\n",
        "print(\"Fin del programa\")"
      ],
      "metadata": {
        "colab": {
          "base_uri": "https://localhost:8080/"
        },
        "id": "kO-GlPXnqlXX",
        "outputId": "735aca10-74f7-441b-acd4-5c3c4f2865e7"
      },
      "execution_count": 16,
      "outputs": [
        {
          "output_type": "stream",
          "name": "stdout",
          "text": [
            "Introduzca su nombre: Jorge\n",
            "Hola como estas Jorge!\n",
            "Fin del programa\n"
          ]
        }
      ]
    },
    {
      "cell_type": "markdown",
      "source": [
        "Este es el resultado cuando se le coloca como respuesta uno de los nombres diferentes a los declarados como variables."
      ],
      "metadata": {
        "id": "3QMvLGbRskyW"
      }
    }
  ]
}
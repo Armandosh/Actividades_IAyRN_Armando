{
  "nbformat": 4,
  "nbformat_minor": 0,
  "metadata": {
    "colab": {
      "provenance": []
    },
    "kernelspec": {
      "name": "python3",
      "display_name": "Python 3"
    },
    "language_info": {
      "name": "python"
    }
  },
  "cells": [
    {
      "cell_type": "code",
      "execution_count": 15,
      "metadata": {
        "colab": {
          "base_uri": "https://localhost:8080/"
        },
        "id": "HCdEIxNifc6T",
        "outputId": "0149e364-2c95-4414-e88e-df4d134a4a34"
      },
      "outputs": [
        {
          "output_type": "stream",
          "name": "stdout",
          "text": [
            "Introduzca su nombre: Ana\n",
            "Hola como estas!\n",
            "Fin del programa\n"
          ]
        }
      ],
      "source": [
        "x = \"Ana\"\n",
        "y = \"Pedro\"\n",
        "z = \"Juan\"\n",
        "\n",
        "name = input(\"Introduzca su nombre: \")\n",
        "\n",
        "if name!=(x or y or z):\n",
        "    print(\"Hola como estas\", name + \"!\")\n",
        "\n",
        "if name==(x or y or z):\n",
        "    print(\"Hola como estas!\")\n",
        "print(\"Fin del programa\")"
      ]
    },
    {
      "cell_type": "code",
      "source": [
        "x = \"Ana\"\n",
        "y = \"Pedro\"\n",
        "z = \"Juan\"\n",
        "\n",
        "name = input(\"Introduzca su nombre: \")\n",
        "\n",
        "if name!=(x or y or z):\n",
        "    print(\"Hola como estas\", name + \"!\")\n",
        "\n",
        "if name==(x or y or z):\n",
        "    print(\"Hola como estas!\")\n",
        "print(\"Fin del programa\")"
      ],
      "metadata": {
        "colab": {
          "base_uri": "https://localhost:8080/"
        },
        "id": "kO-GlPXnqlXX",
        "outputId": "735aca10-74f7-441b-acd4-5c3c4f2865e7"
      },
      "execution_count": 16,
      "outputs": [
        {
          "output_type": "stream",
          "name": "stdout",
          "text": [
            "Introduzca su nombre: Jorge\n",
            "Hola como estas Jorge!\n",
            "Fin del programa\n"
          ]
        }
      ]
    }
  ]
}